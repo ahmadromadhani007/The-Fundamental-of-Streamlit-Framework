{
 "cells": [
  {
   "cell_type": "code",
   "execution_count": 5,
   "metadata": {},
   "outputs": [
    {
     "name": "stdout",
     "output_type": "stream",
     "text": [
      "   Pregnancies  Glucose  BloodPressure  SkinThickness  Insulin   BMI  \\\n",
      "0            6      148             72             35        0  33.6   \n",
      "1            1       85             66             29        0  26.6   \n",
      "2            8      183             64              0        0  23.3   \n",
      "3            1       89             66             23       94  28.1   \n",
      "4            0      137             40             35      168  43.1   \n",
      "\n",
      "   DiabetesPedigreeFunction  Age  Outcome  \n",
      "0                     0.627   50        1  \n",
      "1                     0.351   31        0  \n",
      "2                     0.672   32        1  \n",
      "3                     0.167   21        0  \n",
      "4                     2.288   33        1  \n",
      "(768, 8)\n",
      "(768, 1)\n",
      "(614, 8) (614, 1)\n",
      "(154, 8) (154, 1)\n"
     ]
    }
   ],
   "source": [
    "# Import library yang akan digunakan\n",
    "import pandas as pd\n",
    "from sklearn.model_selection import train_test_split\n",
    "\n",
    "\n",
    "# Import file dataset yang digunakan\n",
    "df = pd.read_csv('diabetes.csv')\n",
    "#tampilkan 5 data teratas\n",
    "print(df.head())\n",
    "\n",
    "# Pembersiahan Data\n",
    "# melihat dataset yang kosong dengan perintah berikut\n",
    "df.isnull().sum()\n",
    "# membagi data feature (x) dan label (y)\n",
    "x = df.drop('Outcome', axis=1)\n",
    "y = df[['Outcome']]\n",
    "print(x.shape)\n",
    "print(y.shape)\n",
    "\n",
    "# Membagi data training dan data testing\n",
    "x_train,x_test,y_train,y_test = train_test_split(x,y,test_size = 0.2,random_state=0)\n",
    "print(x_train.shape, y_train.shape)\n",
    "print(x_test.shape, y_test.shape)\n",
    "\n",
    "# Membuat model"
   ]
  }
 ],
 "metadata": {
  "kernelspec": {
   "display_name": "Python 3",
   "language": "python",
   "name": "python3"
  },
  "language_info": {
   "codemirror_mode": {
    "name": "ipython",
    "version": 3
   },
   "file_extension": ".py",
   "mimetype": "text/x-python",
   "name": "python",
   "nbconvert_exporter": "python",
   "pygments_lexer": "ipython3",
   "version": "3.11.1"
  }
 },
 "nbformat": 4,
 "nbformat_minor": 2
}
